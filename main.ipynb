{
 "cells": [
  {
   "cell_type": "code",
   "execution_count": 1,
   "metadata": {},
   "outputs": [
    {
     "name": "stderr",
     "output_type": "stream",
     "text": [
      "/Users/bliu/Documents/adversarial-networks/venv/lib/python3.10/site-packages/tqdm/auto.py:21: TqdmWarning: IProgress not found. Please update jupyter and ipywidgets. See https://ipywidgets.readthedocs.io/en/stable/user_install.html\n",
      "  from .autonotebook import tqdm as notebook_tqdm\n"
     ]
    },
    {
     "name": "stdout",
     "output_type": "stream",
     "text": [
      "Device: cpu\n"
     ]
    }
   ],
   "source": [
    "import numpy as np\n",
    "import torch\n",
    "import torch.nn as nn\n",
    "import torch.nn.functional as F\n",
    "from torchvision import datasets, transforms\n",
    "\n",
    "from tqdm import tqdm\n",
    "\n",
    "from networks.cnn import CNN\n",
    "device = torch.device(\"cuda\" if torch.cuda.is_available() else \"cpu\")\n",
    "print(f\"Device: {device}\")"
   ]
  },
  {
   "cell_type": "code",
   "execution_count": 2,
   "metadata": {},
   "outputs": [
    {
     "name": "stdout",
     "output_type": "stream",
     "text": [
      "Files already downloaded and verified\n"
     ]
    }
   ],
   "source": [
    "transform = transforms.Compose([transforms.ToTensor()])\n",
    "# Download CIFAR10 dataset\n",
    "train_dataset = datasets.CIFAR10(root='./data', train=True, download=True, transform=transform)\n",
    "# Create data loaders\n",
    "train_loader = torch.utils.data.DataLoader(dataset=train_dataset, batch_size=64, shuffle=True)\n",
    "\n",
    "#create smaller dataset to test with\n",
    "mini_train_idx = torch.utils.data.SubsetRandomSampler(np.arange(200)) # get the first 200 images\n",
    "mini_train_loader = torch.utils.data.DataLoader(dataset=train_dataset, batch_size=64, sampler=mini_train_idx) "
   ]
  },
  {
   "cell_type": "code",
   "execution_count": 3,
   "metadata": {},
   "outputs": [],
   "source": [
    "# Create the model\n",
    "model = CNN().to(device)\n",
    "# Define the loss function and optimizer\n",
    "criterion = torch.nn.CrossEntropyLoss()\n",
    "optimizer = torch.optim.Adam(model.parameters(), lr=0.001)\n",
    "\n",
    "EPOCHS = 10"
   ]
  },
  {
   "cell_type": "code",
   "execution_count": 4,
   "metadata": {},
   "outputs": [
    {
     "name": "stderr",
     "output_type": "stream",
     "text": [
      "Training:  10%|█         | 786/7820 [00:29<04:09, 28.14it/s]"
     ]
    },
    {
     "name": "stdout",
     "output_type": "stream",
     "text": [
      "Epoch [1/10], Loss: 0.9059\n"
     ]
    },
    {
     "name": "stderr",
     "output_type": "stream",
     "text": [
      "Training:  20%|██        | 1567/7820 [00:58<03:35, 28.96it/s]"
     ]
    },
    {
     "name": "stdout",
     "output_type": "stream",
     "text": [
      "Epoch [2/10], Loss: 0.8051\n"
     ]
    },
    {
     "name": "stderr",
     "output_type": "stream",
     "text": [
      "Training:  30%|███       | 2351/7820 [01:27<03:12, 28.37it/s]"
     ]
    },
    {
     "name": "stdout",
     "output_type": "stream",
     "text": [
      "Epoch [3/10], Loss: 0.6936\n"
     ]
    },
    {
     "name": "stderr",
     "output_type": "stream",
     "text": [
      "Training:  40%|████      | 3132/7820 [01:56<02:55, 26.70it/s]"
     ]
    },
    {
     "name": "stdout",
     "output_type": "stream",
     "text": [
      "Epoch [4/10], Loss: 1.2584\n"
     ]
    },
    {
     "name": "stderr",
     "output_type": "stream",
     "text": [
      "Training:  50%|█████     | 3916/7820 [02:24<02:05, 31.10it/s]"
     ]
    },
    {
     "name": "stdout",
     "output_type": "stream",
     "text": [
      "Epoch [5/10], Loss: 0.9563\n"
     ]
    },
    {
     "name": "stderr",
     "output_type": "stream",
     "text": [
      "Training:  60%|██████    | 4697/7820 [02:50<01:42, 30.36it/s]"
     ]
    },
    {
     "name": "stdout",
     "output_type": "stream",
     "text": [
      "Epoch [6/10], Loss: 0.7343\n"
     ]
    },
    {
     "name": "stderr",
     "output_type": "stream",
     "text": [
      "Training:  70%|███████   | 5476/7820 [03:17<01:16, 30.79it/s]"
     ]
    },
    {
     "name": "stdout",
     "output_type": "stream",
     "text": [
      "Epoch [7/10], Loss: 0.5297\n"
     ]
    },
    {
     "name": "stderr",
     "output_type": "stream",
     "text": [
      "Training:  80%|████████  | 6259/7820 [03:44<00:51, 30.27it/s]"
     ]
    },
    {
     "name": "stdout",
     "output_type": "stream",
     "text": [
      "Epoch [8/10], Loss: 0.5524\n"
     ]
    },
    {
     "name": "stderr",
     "output_type": "stream",
     "text": [
      "Training:  90%|█████████ | 7043/7820 [04:10<00:25, 31.01it/s]"
     ]
    },
    {
     "name": "stdout",
     "output_type": "stream",
     "text": [
      "Epoch [9/10], Loss: 0.2894\n"
     ]
    },
    {
     "name": "stderr",
     "output_type": "stream",
     "text": [
      "Training: 100%|██████████| 7820/7820 [04:36<00:00, 31.64it/s]"
     ]
    },
    {
     "name": "stdout",
     "output_type": "stream",
     "text": [
      "Epoch [10/10], Loss: 0.4730\n"
     ]
    },
    {
     "name": "stderr",
     "output_type": "stream",
     "text": [
      "Training: 100%|██████████| 7820/7820 [04:50<00:00, 31.64it/s]"
     ]
    }
   ],
   "source": [
    "# Train the model\n",
    "progress = tqdm(total=len(train_loader)*EPOCHS, desc=\"Training\") # add a progress bar\n",
    "for epoch in range(EPOCHS):\n",
    "    for images, labels in train_loader:\n",
    "        model.train()\n",
    "        images = images.to(device)\n",
    "        labels = labels.to(device)\n",
    "\n",
    "        # Forward pass\n",
    "        outputs = model(images)\n",
    "        loss = criterion(outputs, labels)\n",
    "        \n",
    "        # Backward and optimize\n",
    "        optimizer.zero_grad()\n",
    "        loss.backward()\n",
    "        optimizer.step()\n",
    "\n",
    "        progress.update(1)\n",
    "    \n",
    "    progress.write(f'Epoch [{epoch+1}/{10}], Loss: {loss.item():.4f}')"
   ]
  },
  {
   "cell_type": "code",
   "execution_count": 5,
   "metadata": {},
   "outputs": [
    {
     "name": "stdout",
     "output_type": "stream",
     "text": [
      "Saved PyTorch Model State to cnn.pth\n"
     ]
    }
   ],
   "source": [
    "#saving model\n",
    "torch.save(model.state_dict(), \"models/cnn.pth\")\n",
    "print(\"Saved PyTorch Model State to cnn.pth\")"
   ]
  },
  {
   "cell_type": "code",
   "execution_count": 6,
   "metadata": {},
   "outputs": [
    {
     "data": {
      "text/plain": [
       "CNN(\n",
       "  (network): Sequential(\n",
       "    (0): Conv2d(3, 32, kernel_size=(3, 3), stride=(2, 2), padding=(1, 1))\n",
       "    (1): ReLU()\n",
       "    (2): BatchNorm2d(32, eps=1e-05, momentum=0.1, affine=True, track_running_stats=True)\n",
       "    (3): Conv2d(32, 64, kernel_size=(3, 3), stride=(2, 2), padding=(1, 1))\n",
       "    (4): ReLU()\n",
       "    (5): BatchNorm2d(64, eps=1e-05, momentum=0.1, affine=True, track_running_stats=True)\n",
       "    (6): Conv2d(64, 64, kernel_size=(3, 3), stride=(2, 2), padding=(1, 1))\n",
       "    (7): ReLU()\n",
       "    (8): BatchNorm2d(64, eps=1e-05, momentum=0.1, affine=True, track_running_stats=True)\n",
       "    (9): Flatten(start_dim=1, end_dim=-1)\n",
       "    (10): Linear(in_features=1024, out_features=64, bias=True)\n",
       "  )\n",
       ")"
      ]
     },
     "execution_count": 6,
     "metadata": {},
     "output_type": "execute_result"
    }
   ],
   "source": [
    "\n",
    "#loading the pretrained model\n",
    "model = CNN()\n",
    "model.load_state_dict(torch.load(\"models/cnn.pth\"))\n",
    "model.to(device)\n",
    "model.eval()"
   ]
  },
  {
   "cell_type": "code",
   "execution_count": 7,
   "metadata": {},
   "outputs": [
    {
     "name": "stdout",
     "output_type": "stream",
     "text": [
      "Loss: 1.1099, Accuracy: 0.6728\n"
     ]
    }
   ],
   "source": [
    "transform = transforms.Compose([transforms.ToTensor()])\n",
    "test_dataset = datasets.CIFAR10(root='./data', train=False, transform=transform)\n",
    "\n",
    "test_loader = torch.utils.data.DataLoader(dataset=test_dataset, batch_size=64, shuffle=False)\n",
    "\n",
    "criterion = torch.nn.CrossEntropyLoss()\n",
    "\n",
    "losses = []\n",
    "accuracies = []\n",
    "\n",
    "with torch.no_grad():\n",
    "    for inputs, labels in test_loader:\n",
    "        #for every batch\n",
    "        inputs = inputs.to(device)\n",
    "        labels = labels.to(device)\n",
    "        outputs = model(inputs)\n",
    "        loss = criterion(outputs, labels)\n",
    "        accuracy = (torch.max(outputs, dim=1)[1] == labels).to(torch.float32).mean()\n",
    "        losses.append(loss.cpu().numpy())\n",
    "        accuracies.append(accuracy.cpu().numpy())\n",
    "\n",
    "loss, accuracy = np.mean(losses), np.mean(accuracies)\n",
    "\n",
    "print(f\"Loss: {loss:.4f}, Accuracy: {accuracy:.4f}\")"
   ]
  },
  {
   "cell_type": "code",
<<<<<<< HEAD
   "execution_count": 261,
=======
   "execution_count": 22,
>>>>>>> refs/remotes/origin/main
   "metadata": {},
   "outputs": [],
   "source": [
    "# Fast gradient sign method\n",
    "def fgsm(image, epsilon, data_grad):\n",
    "    # Collect the element-wise sign of the data gradient\n",
    "    sign_data_grad = data_grad.sign()\n",
    "    # Create the perturbed image by adjusting each pixel of the input image\n",
    "    perturbed_image = image + epsilon*sign_data_grad\n",
    "    # Adding clipping to maintain [0,1] range\n",
    "    perturbed_image = torch.clamp(perturbed_image, 0, 1)\n",
    "    # Return the perturbed image\n",
    "    return perturbed_image"
   ]
  },
  {
   "cell_type": "code",
<<<<<<< HEAD
   "execution_count": 279,
=======
   "execution_count": 28,
>>>>>>> refs/remotes/origin/main
   "metadata": {},
   "outputs": [
    {
     "name": "stdout",
     "output_type": "stream",
     "text": [
<<<<<<< HEAD
      "Epsilon: 0\tTest Accuracy = 6952.0 / 10000 = 0.6952\n",
      "Epsilon: 0.001\tTest Accuracy = 6525.0 / 10000 = 0.6525\n",
      "Epsilon: 0.003\tTest Accuracy = 4031.0 / 10000 = 0.4031\n",
      "Epsilon: 0.005\tTest Accuracy = 2012.0 / 10000 = 0.2012\n",
      "Epsilon: 0.007\tTest Accuracy = 913.0 / 10000 = 0.0913\n",
      "Epsilon: 0.1\tTest Accuracy = 0.0 / 10000 = 0.0\n",
      "Epsilon: 0.15\tTest Accuracy = 0.0 / 10000 = 0.0\n"
=======
      "Epsilon: 0.0\tTest Accuracy = 6854.0 / 10000 = 0.6854\n"
>>>>>>> refs/remotes/origin/main
     ]
    }
   ],
   "source": [
    "# Adversarial test (but technically also train)\n",
    "\n",
<<<<<<< HEAD
    "epsilons = [0, 0.0005, 0.001, 0.003, 0.007,0.01]\n",
    "pretrained_model = \"pretrained_cnn.pth\"\n",
=======
    "epsilons = [0, .05, .1, .15, .2, .25, .3]\n",
    "pretrained_model = \"models/cnn.pth\"\n",
>>>>>>> refs/remotes/origin/main
    "test_dataset = datasets.CIFAR10(root='./data', train=False, transform=transform)\n",
    "test_loader = torch.utils.data.DataLoader(dataset=test_dataset, batch_size=64, shuffle=True)\n",
    "device = torch.device(\"cuda\" if torch.cuda.is_available() else \"cpu\")\n",
    "\n",
    "# Initialize the network\n",
    "model = CNN().to(device)\n",
    "model.load_state_dict(torch.load(pretrained_model))\n",
    "# Set the model in evaluation mode. In this case this is for the Dropout layers\n",
    "model.eval()\n",
    "criterion = torch.nn.CrossEntropyLoss()\n",
    "optimizer = torch.optim.Adam(model.parameters(), lr=0.001)\n",
    "\n",
    "def test( model, device, test_loader, epsilon,criterion, optimizer ):\n",
    "    correct = 0\n",
    "    adv_examples = []\n",
    "    for images, labels in test_loader:\n",
    "        # Send the data and label to the device\n",
    "        images, labels = images.to(device), labels.to(device)\n",
    "\n",
    "        # Set requires_grad attribute of tensor. Important for Attack\n",
    "        images.requires_grad = True\n",
    "\n",
    "        # Forward pass the data through the model\n",
    "        output = model(images) \n",
    "        init_pred = torch.max(output, dim=1)[1] # get the index of the max log-probability\n",
    "        loss = criterion(output, labels)\n",
    "\n",
    "        optimizer.zero_grad()\n",
    "        loss.backward()\n",
    "        optimizer.step()\n",
    "\n",
    "        # Collect gradients\n",
    "        data_grad = images.grad.data\n",
    "\n",
    "        # Call FGSM Attack\n",
    "        perturbed_images = fgsm(images, epsilon, data_grad)\n",
    "\n",
    "        # Re-classify the perturbed image\n",
    "        output = model(perturbed_images)\n",
    "\n",
    "        final_pred = torch.max(output, dim=1)[1] # get the index of the max log-probability\n",
    "        correct_idx = (final_pred == labels)\n",
    "        correct += sum(correct_idx.to(torch.float32)).item()\n",
    "\n",
    "        # only get pred that was right buut now wrong\n",
    "        incorrect_idx = (final_pred != labels) & (init_pred == labels)\n",
    "\n",
    "        #saving examples of perturbed images for later visualization\n",
    "        if len(adv_examples) < 5:\n",
    "            # Save some adv examples for visualization later\n",
    "            # p is the single perturbed image, y is the correct label, initial and final and pre- and post-fgsm predictions\n",
    "            for initial, final, p, y in zip(init_pred[incorrect_idx], final_pred[incorrect_idx], perturbed_images[incorrect_idx], labels[incorrect_idx]):\n",
    "                adv_ex = p.squeeze().detach().cpu().numpy()\n",
    "                adv_examples.append( (initial.item(), final.item(), y.item(), adv_ex) )\n",
    "                # returned adv_examples is 1 x batchsize x 4, holding items: pre-fgsm pred, post-fgsm pred, ground truth, post-fgsm image\n",
    "            \n",
    "            # Special case for saving 0 epsilon examples\n",
    "            if epsilon == 0:\n",
    "                for initial, final in zip(init_pred[correct_idx], final_pred[correct_idx]):\n",
    "                    adv_ex = perturbed_images.squeeze().detach().cpu().numpy()\n",
    "                    adv_examples.append( (initial.item(), final.item(), final.item(), adv_ex) )\n",
    "\n",
    "\n",
    "    # Calculate final accuracy for this epsilon\n",
    "    final_acc = correct/float(len(test_dataset))\n",
    "    print(\"Epsilon: {}\\tTest Accuracy = {} / {} = {}\".format(epsilon, correct, len(test_dataset), final_acc))\n",
    "    # Return the accuracy and an adversarial example\n",
    "    return final_acc, adv_examples\n",
    "\n",
    "accuracies = []\n",
    "examples = []\n",
    "\n",
<<<<<<< HEAD
    "epsilons = [0, 0.001, 0.003, 0.005, 0.007, 0.1, 0.15] #overwriting epsilon for faster testing\n",
=======
    "epsilons = [0.0] #overwriting epsilon for faster testing\n",
>>>>>>> refs/remotes/origin/main
    "# Run test for each epsilon\n",
    "for eps in epsilons:\n",
    "    acc, ex = test(model, device, test_loader, eps, criterion, optimizer)\n",
    "    accuracies.append(acc)\n",
    "    examples.append(ex)"
   ]
  },
  {
   "cell_type": "code",
<<<<<<< HEAD
   "execution_count": 283,
=======
   "execution_count": 20,
>>>>>>> refs/remotes/origin/main
   "metadata": {},
   "outputs": [
    {
     "data": {
<<<<<<< HEAD
      "image/png": "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",
=======
      "image/png": "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",
>>>>>>> refs/remotes/origin/main
      "text/plain": [
       "<Figure size 640x480 with 1 Axes>"
      ]
     },
     "metadata": {},
     "output_type": "display_data"
    }
   ],
   "source": [
    "# print the adversarial examples saved during the above program\n",
    "import matplotlib.pyplot as plt\n",
    "import torchvision\n",
    "\n",
    "#img needs to be a tensor that is configured with torchvision.utils.make_grid(img), before after and truth are strings\n",
    "def imshow(img, before, after, truth):\n",
    "    npimg = img.numpy()\n",
    "    plt.imshow(np.transpose(npimg, (1, 2, 0)))\n",
    "    plt.title(\"Truth: {} Before {} -> After {}\".format(truth, before, after))\n",
    "    plt.show()\n",
    "\n",
    "ex = examples[1][0]\n",
    "img = torch.tensor(ex[3])\n",
    "classes = ('plane', 'car', 'bird', 'cat',\n",
    "           'deer', 'dog', 'frog', 'horse', 'ship', 'truck')\n",
    "# perturbed image\n",
    "imshow(torchvision.utils.make_grid(img), classes[ex[0]], classes[ex[1]], classes[ex[2]])\n"
   ]
  },
  {
   "cell_type": "code",
   "execution_count": null,
   "metadata": {},
   "outputs": [],
   "source": []
  }
 ],
 "metadata": {
  "kernelspec": {
   "display_name": "base",
   "language": "python",
   "name": "python3"
  },
  "language_info": {
   "codemirror_mode": {
    "name": "ipython",
    "version": 3
   },
   "file_extension": ".py",
   "mimetype": "text/x-python",
   "name": "python",
   "nbconvert_exporter": "python",
   "pygments_lexer": "ipython3",
   "version": "3.10.9"
  },
  "orig_nbformat": 4
 },
 "nbformat": 4,
 "nbformat_minor": 2
}
